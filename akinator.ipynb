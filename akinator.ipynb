{
 "cells": [
  {
   "cell_type": "code",
   "execution_count": 1,
   "metadata": {},
   "outputs": [],
   "source": [
    "import pandas as pd\n",
    "import numpy as np"
   ]
  },
  {
   "cell_type": "code",
   "execution_count": 2,
   "metadata": {},
   "outputs": [],
   "source": [
    "df = pd.read_csv(\"IA- times - Página1.csv\")"
   ]
  },
  {
   "cell_type": "code",
   "execution_count": 3,
   "metadata": {},
   "outputs": [],
   "source": [
    "feature = ['Estado', 'Cidade', 'Serie', 'Cor', 'Mascote']"
   ]
  },
  {
   "cell_type": "code",
   "execution_count": 4,
   "metadata": {},
   "outputs": [
    {
     "data": {
      "text/plain": [
       "'CE'"
      ]
     },
     "execution_count": 4,
     "metadata": {},
     "output_type": "execute_result"
    }
   ],
   "source": [
    "df['Estado'].sample().iloc[0]"
   ]
  },
  {
   "cell_type": "code",
   "execution_count": 5,
   "metadata": {},
   "outputs": [],
   "source": [
    "def perguntar_estado(df):\n",
    "    if len(df['Estado'].unique()) > 0:\n",
    "        stg = df['Estado'].sample().iloc[0]\n",
    "        # estado = input(\"Qual o estado do seu time? (inserir a sigla do estado)\").upper()\n",
    "        print(f\"O seu time é do estado de {stg}?\")\n",
    "        print(\"1.Sim\")\n",
    "        print(\"2.Não\")\n",
    "        res = int(input())\n",
    "        \n",
    "        if(res == 1):\n",
    "            return df[df['Estado'] == stg]\n",
    "        else:\n",
    "            return df[df['Estado'] != stg]"
   ]
  },
  {
   "cell_type": "code",
   "execution_count": 6,
   "metadata": {},
   "outputs": [],
   "source": [
    "def perguntar_cidade(df):\n",
    "    if len(df['Cidade'].unique()) > 0:\n",
    "        stg = df['Cidade'].sample().iloc[0]\n",
    "        print(f\"O seu time é da cidade de {stg}?\")\n",
    "        print(\"1.Sim\")\n",
    "        print(\"2.Não\")\n",
    "        res = int(input())\n",
    "\n",
    "        if(res == 1):\n",
    "            return df[df['Cidade'] == stg]\n",
    "        else:\n",
    "            return df[df['Cidade'] != stg]"
   ]
  },
  {
   "cell_type": "code",
   "execution_count": 7,
   "metadata": {},
   "outputs": [],
   "source": [
    "def perguntar_mascote(df):\n",
    "    if len(df['Mascote'].unique()) > 0:\n",
    "        stg = df['Mascote'].sample().iloc[0]\n",
    "        print(f\"O mascote do seu time é um {stg}?\")\n",
    "        print(\"1.Sim\")\n",
    "        print(\"2.Não\")\n",
    "        res = int(input())\n",
    "\n",
    "        if(res == 1):\n",
    "            return df[df['Mascote'] == stg]\n",
    "        else:\n",
    "            return df[df['Mascote'] != stg]"
   ]
  },
  {
   "cell_type": "code",
   "execution_count": 8,
   "metadata": {},
   "outputs": [],
   "source": [
    "def perguntar_cor(df):\n",
    "    if len(df['Cor'].unique()) > 0:\n",
    "        stg = df['Cor'].sample().iloc[0]\n",
    "        print(f\"Seu time tem a cor {stg}?\")\n",
    "        print(\"1.Sim\")\n",
    "        print(\"2.Não\")\n",
    "        res = int(input())\n",
    "\n",
    "        if(res == 1):\n",
    "            return df[df['Cor'] == stg]\n",
    "        else:\n",
    "            return df[df['Cor'] != stg]"
   ]
  },
  {
   "cell_type": "code",
   "execution_count": 9,
   "metadata": {},
   "outputs": [],
   "source": [
    "def perguntar_serie(df):\n",
    "    if len(df['Serie'].unique()) > 0:\n",
    "        stg = df['Serie'].sample().iloc[0]\n",
    "        print(f\"Seu time está na série {stg}?\")\n",
    "        print(\"1.Sim\")\n",
    "        print(\"2.Não\")\n",
    "        res = int(input())\n",
    "\n",
    "        if(res == 1):\n",
    "            return df[df['Serie'] == stg]\n",
    "        else:\n",
    "            return df[df['Serie'] != stg]"
   ]
  },
  {
   "cell_type": "code",
   "execution_count": 10,
   "metadata": {},
   "outputs": [],
   "source": [
    "# def perguntar_estaduais(df):\n",
    "#     estaduais = input(\"Quantos estaduais seu time tem?\")\n",
    "#     return df[df['Campeonatos estaduais'].str.contains(estaduais, case=True)]\n"
   ]
  },
  {
   "cell_type": "code",
   "execution_count": 11,
   "metadata": {},
   "outputs": [
    {
     "name": "stdout",
     "output_type": "stream",
     "text": [
      "Cor\n"
     ]
    }
   ],
   "source": [
    "coluna = np.random.choice(df[feature].columns, 1, replace=False)[0]\n",
    "print(coluna)"
   ]
  },
  {
   "cell_type": "code",
   "execution_count": 12,
   "metadata": {},
   "outputs": [
    {
     "name": "stdout",
     "output_type": "stream",
     "text": [
      "Seu time está na série B?\n",
      "1.Sim\n",
      "2.Não\n",
      "O seu time é do estado de AM?\n",
      "1.Sim\n",
      "2.Não\n",
      "O seu time é da cidade de Recife?\n",
      "1.Sim\n",
      "2.Não\n",
      "O seu time é do estado de RS?\n",
      "1.Sim\n",
      "2.Não\n",
      "O seu time é do estado de RN?\n",
      "1.Sim\n",
      "2.Não\n",
      "O seu time é da cidade de Araraquara?\n",
      "1.Sim\n",
      "2.Não\n",
      "Seu time tem a cor azul,branco?\n",
      "1.Sim\n",
      "2.Não\n",
      "Seu time está na série C?\n",
      "1.Sim\n",
      "2.Não\n",
      "Seu time tem a cor azul,branco?\n",
      "1.Sim\n",
      "2.Não\n",
      "O mascote do seu time é um leão?\n",
      "1.Sim\n",
      "2.Não\n",
      "O mascote do seu time é um dragao?\n",
      "1.Sim\n",
      "2.Não\n",
      "Seu time está na série C?\n",
      "1.Sim\n",
      "2.Não\n",
      "O seu time é da cidade de Maceió?\n",
      "1.Sim\n",
      "2.Não\n",
      "O seu time é: CSA\n"
     ]
    }
   ],
   "source": [
    "while len(df.index) > 1:\n",
    "        coluna = np.random.choice(df[feature].columns, 1, replace=False)[0]\n",
    "        match coluna:\n",
    "                case 'Estado':\n",
    "                        df = perguntar_estado(df)\n",
    "                case 'Cor':\n",
    "                        df = perguntar_cor(df)\n",
    "                case  'Mascote':\n",
    "                        df = perguntar_mascote(df)\n",
    "                case 'Serie':\n",
    "                        df = perguntar_serie(df)\n",
    "                case 'Cidade':\n",
    "                        df = perguntar_cidade(df)\n",
    "                # case \"Campeonatos estaduais\":\n",
    "                #         perguntar_estaduais(df)\n",
    "        if df.empty:\n",
    "                break\n",
    "\n",
    "if(df.shape[0] > 0):\n",
    "        print(f\"O seu time é: {df['Nome'].iloc[0]}\")\n",
    "else:\n",
    "        print(\"Infelizmente seu time não consta em nosso banco de dados :(\")"
   ]
  }
 ],
 "metadata": {
  "kernelspec": {
   "display_name": "Python 3",
   "language": "python",
   "name": "python3"
  },
  "language_info": {
   "codemirror_mode": {
    "name": "ipython",
    "version": 3
   },
   "file_extension": ".py",
   "mimetype": "text/x-python",
   "name": "python",
   "nbconvert_exporter": "python",
   "pygments_lexer": "ipython3",
   "version": "3.12.3"
  }
 },
 "nbformat": 4,
 "nbformat_minor": 2
}
